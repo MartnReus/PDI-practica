{
  "cells": [
    {
      "cell_type": "code",
      "execution_count": null,
      "metadata": {
        "id": "DHHD0GOqJWwN"
      },
      "outputs": [],
      "source": [
        "# 1\n",
        "\n",
        "# Cargar imagen img y obtener su valor accediendo al contenido del numpy.ndarray\n",
        "# haciendo img[y,x], el valor que se obtiene es el valor de intensidad."
      ]
    },
    {
      "cell_type": "code",
      "execution_count": null,
      "metadata": {
        "id": "OidgAyL4Jsdp"
      },
      "outputs": [],
      "source": [
        "# 2 y 3\n",
        "\n",
        "# Dejar graficar los valores de la imagen en una direccion dejando fija la otra\n",
        "# plt.plot(img[:, 25]) -> Perfil de intensidad a lo largo del eje y con x=25."
      ]
    },
    {
      "cell_type": "markdown",
      "metadata": {
        "id": "OeWLdIJS2zXb"
      },
      "source": [
        "#### Ejercicio 3: Aplicación"
      ]
    },
    {
      "cell_type": "markdown",
      "metadata": {
        "id": "JdkJY8Os_a14"
      },
      "source": [
        "Hay una version mas larga de la imagen de las botellas para probar (descomentar)"
      ]
    },
    {
      "cell_type": "code",
      "execution_count": null,
      "metadata": {
        "colab": {
          "base_uri": "https://localhost:8080/",
          "height": 489
        },
        "id": "AxBO3FMK19JQ",
        "outputId": "9fa32e76-d9fc-4faf-e5b7-3f136bc4ce4d"
      },
      "outputs": [],
      "source": [
        "# Cantidad de botellas real: 5, (y 17 en la imagen mas larga)\n",
        "\n",
        "img_path = drive_path + \"/images/botellas.tif\"\n",
        "#img_path = drive_path + \"/images/botellas_larga.tif\"\n",
        "\n",
        "botellas = cv2.imread(img_path,cv2.IMREAD_GRAYSCALE)\n",
        "\n",
        "# Se toma la linea y=50 como referencia para determinar si una botella esta\n",
        "# llena o vacia\n",
        "y = 50\n",
        "\n",
        "count = 0 # cantidad total de botellas\n",
        "count_wrong = 0 # cantidad total de botellas mal llenadas\n",
        "\n",
        "botellas_vacias = []\n",
        "lista_botellas = []\n",
        "\n",
        "print(botellas.shape)\n",
        "\n",
        "# Variables que van a ir guardando la posicion inicial y final una botella\n",
        "x_inicio = -1\n",
        "x_fin= -1\n",
        "\n",
        "for x in range(1,botellas.shape[1]):\n",
        "\n",
        "    # Caso en que el pixel es el primero de una botella\n",
        "    if (botellas[y,x] > 20 and botellas[y,x-1] <= 20):\n",
        "        x_inicio = x\n",
        "\n",
        "    # Caso en que el pixel es el ultimo de una botella o\n",
        "    # la imagen termina y todavia hay un pixel que no es negro\n",
        "    if ((botellas[y,x] <= 20 and botellas[y,x-1] > 20) or \\\n",
        "        (x == botellas.shape[1]-1 and botellas[y,x] > 20)):\n",
        "\n",
        "        x_fin = x\n",
        "        count += 1\n",
        "        lista_botellas.append([count,x_inicio,x_fin])\n",
        "\n",
        "        # Las botellas con intensidad mayor a 200 son botellas mal llenadas\n",
        "        if (botellas[y,x-2] > 200):\n",
        "            botellas_vacias.append([count,x_inicio,x_fin,math.floor(x_inicio+x_fin)/2])\n",
        "\n",
        "print(\"Cantidad contada de botellas: %d\"%count)\n",
        "print(\"Botellas vacias: %s\"%botellas_vacias)\n",
        "# print(\"Botellas y su posicion: %s\"%lista_botellas)\n",
        "\n",
        "plt.figure()\n",
        "plt.subplot(2,1,1)\n",
        "plt.imshow(botellas,cmap=\"gray\")\n",
        "\n",
        "# Plot de lineas que marcan inicio y fin de cada botella\n",
        "for i in range(0,len(lista_botellas)):\n",
        "    for j in range(1,3):\n",
        "        if j != -1:\n",
        "            plt.plot([lista_botellas[i][j],lista_botellas[i][j]],[0,botellas.shape[0]],'r')\n",
        "\n",
        "# Plot de lineas que marcan el centro de cada botella mal llenada\n",
        "for i in range(0,len(botellas_vacias)):\n",
        "    plt.plot([botellas_vacias[i][3],botellas_vacias[i][3]],[0,botellas.shape[0]],'b')\n",
        "\n",
        "# for i in range(0,len(botellas_vacias)):\n",
        "#     for j in range(1,3):\n",
        "#         if j != -1:\n",
        "#             plt.plot([botellas_vacias[i][j],botellas_vacias[i][j]],[0,botellas.shape[0]],'b')\n",
        "\n",
        "\n",
        "\n",
        "plt.subplot(2,1,2)\n",
        "plt.plot(botellas[50,:])\n",
        "\n",
        "plt.show()"
      ]
    },
    {
      "cell_type": "code",
      "execution_count": null,
      "metadata": {
        "colab": {
          "base_uri": "https://localhost:8080/"
        },
        "id": "jxNpOZKh1qiZ",
        "outputId": "ad34d79f-ba82-4df0-b7f6-b917320595ba"
      },
      "outputs": [],
      "source": [
        "import cv2;\n",
        "import numpy as np;\n",
        "from matplotlib import pyplot as plt\n",
        "import math\n",
        "\n",
        "import sys\n",
        "\n",
        "print(\"Python version %s / OpenCV version %s \" %(sys.version,cv2.__version__))"
      ]
    },
    {
      "cell_type": "code",
      "execution_count": null,
      "metadata": {
        "colab": {
          "base_uri": "https://localhost:8080/"
        },
        "id": "5MLNkPi217AC",
        "outputId": "c46a590e-5208-4293-f2e1-d22980e1f725"
      },
      "outputs": [],
      "source": [
        "drive_path = \"..\""
      ]
    },
    {
      "cell_type": "markdown",
      "metadata": {
        "id": "nePvjiVl25S4"
      },
      "source": [
        "#### Ejercicio 1: Lectura, visualización y escritura de imágenes\n",
        "1. Realizar la carga y visualización de diferentes imágenes.\n",
        "2. Mostrar en pantalla información sobre las imágenes.\n",
        "3. Investigar los formatos de imágenes y cómo leer y escribir un valor puntual en una imágen.\n",
        "4. Utilizar el pasaje de parámetros para especificar la imagen a cargar.\n",
        "5. Definir y recortar una subimagen de una imagen.\n",
        "6. Investigar y realizar una función que permita mostrar varias imágenes en una sola ventana (un solo plot en este caso).\n",
        "7. Dibujar sobre la imagen lineas, círculos y rectángulos (mover la posicion de alguno con sliders).\n"
      ]
    },
    {
      "cell_type": "code",
      "execution_count": null,
      "metadata": {
        "id": "UN2baLlD33zY"
      },
      "outputs": [],
      "source": [
        "# 1,2 y 4\n",
        "def mostrar_imagen(img_path):\n",
        "  img = cv2.imread(drive_path+img_path)\n",
        "  plt.figure()\n",
        "  plt.imshow(img)\n",
        "  plt.show()\n",
        "  print(\"Alto, ancho y n_canales = %s\" %str(img.shape))\n",
        "  print(\"valor medio %.3f, mínimo %d, máximo %d\" %(np.mean(img),\n",
        "                                                 np.min(img),\n",
        "                                                 np.max(img)))\n",
        "\n",
        "img_list = [\"/images/billete.jpg\",\n",
        "            \"/images/blister_completo.jpg\",\n",
        "            \"/images/blister_incompleto.jpg\",\n",
        "            \"/images/bone.tif\",\n",
        "            \"/images/botellas.tif\",\n",
        "            \"/images/building.jpg\",\n",
        "            \"/images/camaleon.tif\",\n",
        "            ]\n",
        "\n",
        "for n in range(0,len(img_list)):\n",
        "  mostrar_imagen(img_list[n])\n"
      ]
    },
    {
      "cell_type": "code",
      "execution_count": null,
      "metadata": {
        "id": "znjIWI9w6lEK"
      },
      "outputs": [],
      "source": [
        "# 3, 5 y 7\n",
        "\n",
        "# Para leer y escribir un valor puntual en una imagen solo hay que acceder y\n",
        "# cambiar su valor en la estructura de datos que la contiene, en este caso, un\n",
        "# numpy.ndarray\n",
        "\n",
        "img3 = cv2.imread(drive_path + img_list[0])\n",
        "print(type(img3))\n",
        "\n",
        "# Leer solo una seccion de la imagen\n",
        "img3_region = img3[40:360,500:750]\n",
        "\n",
        "# Escribir en la imagen (en la copia de la imagen cargada en memoria)\n",
        "img3_modificada = img3.copy()\n",
        "img3_modificada[40:360,25:275] = img3_region\n",
        "\n",
        "img3_dibujada = img3.copy()\n",
        "cv2.rectangle(img3_dibujada,(760,290),(885,360),(0,0,255),8)\n",
        "cv2.ellipse(img3_dibujada,(610,200),(110,160),10,0,360,(0,255,0),8)\n",
        "\n",
        "plt.figure()\n",
        "plt.subplot(2,2,1)\n",
        "plt.imshow(img3)\n",
        "\n",
        "plt.subplot(2,2,2)\n",
        "plt.imshow(img3_region)\n",
        "\n",
        "plt.subplot(2,2,3)\n",
        "plt.imshow(img3_modificada)\n",
        "\n",
        "plt.subplot(2,2,4)\n",
        "plt.imshow(img3_dibujada)\n",
        "\n",
        "plt.show()\n"
      ]
    },
    {
      "cell_type": "code",
      "execution_count": null,
      "metadata": {
        "id": "aFcIpmAB-9Le"
      },
      "outputs": [],
      "source": [
        "# 6\n",
        "import math\n",
        "def mostrar_imagen_subplot(img_list):\n",
        "\n",
        "  row = 2\n",
        "  col = math.floor(len(img_list)/2)\n",
        "  if (col%2 != 0):\n",
        "    col = col + 1\n",
        "\n",
        "  for n in range(0,len(img_list)):\n",
        "    img = cv2.imread(drive_path+img_list[n])\n",
        "    plt.subplot(row,col,n+1)\n",
        "    plt.imshow(img)\n",
        "\n",
        "    # Desactivar los ejes x e y\n",
        "    ax = plt.gca()\n",
        "    ax.get_xaxis().set_visible(False)\n",
        "    ax.get_yaxis().set_visible(False)\n",
        "\n",
        "\n",
        "  plt.show()\n",
        "\n",
        "mostrar_imagen_subplot(img_list)\n",
        "\n"
      ]
    },
    {
      "cell_type": "markdown",
      "metadata": {
        "id": "wIUyMpsnIZIA"
      },
      "source": [
        "#### Ejercicio 2: Información de intensidad\n",
        "1. Informar los valores de intensidad de puntos particulares de la imagen.\n",
        "2. Obtener y graficar los valores de intensidad (*perfil de intensidad*) sobre una determinada fila o columna.\n",
        "3. Graficar el *perfil de intensidad* para un segmento de interés cualquiera.\n",
        "\n"
      ]
    },
    {
      "cell_type": "code",
      "execution_count": 9,
      "metadata": {
        "id": "xh1j9RQg2cmV"
      },
      "outputs": [],
      "source": [
        "## TODO: informar el porcentaje de llenado de una botella mal llenada"
      ]
    }
  ],
  "metadata": {
    "colab": {
      "collapsed_sections": [
        "nePvjiVl25S4",
        "wIUyMpsnIZIA"
      ],
      "provenance": []
    },
    "kernelspec": {
      "display_name": "Python 3",
      "name": "python3"
    },
    "language_info": {
      "codemirror_mode": {
        "name": "ipython",
        "version": 3
      },
      "file_extension": ".py",
      "mimetype": "text/x-python",
      "name": "python",
      "nbconvert_exporter": "python",
      "pygments_lexer": "ipython3",
      "version": "3.11.8"
    }
  },
  "nbformat": 4,
  "nbformat_minor": 0
}
