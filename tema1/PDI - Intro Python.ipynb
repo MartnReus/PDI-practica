{
 "cells": [
  {
   "cell_type": "markdown",
   "metadata": {},
   "source": [
    "# Introducción a OpenCV en Python\n",
    "\n",
    "FICH, UNL - Procesamiento digital de Imágenes\n",
    "Gaggion Zulpo, Rafael Nicolás\n",
    "21 de Marzo de 2019"
   ]
  },
  {
   "cell_type": "markdown",
   "metadata": {},
   "source": [
    "# Instalación de Python\n",
    "\n",
    "Se recomienda el uso de Anaconda, dado que por defecto viene con algunas librerías útiles instaladas junto con Jupyter, para la utilización de notebooks, y Spyder, un entorno de desarrollo muy similar a Matlab.\n",
    "Pueden descargar Anaconda aquí:\n",
    "https://www.anaconda.com/distribution/\n",
    "\n",
    "En caso de trabajar con Python directamente, o mediante otro IDE de preferencia, se deberán instalar también las librerías Matplotlib y NumPy mediante pip, con el siguiente comando:\n",
    "\n",
    "pip install numpy matplotlib"
   ]
  },
  {
   "cell_type": "markdown",
   "metadata": {},
   "source": [
    "# Instalación de OpenCV\n",
    "\n",
    "En caso de utilizar Anaconda, se puede instalar vía terminal con:\n",
    "\n",
    "conda install -c conda-forge opencv\n",
    "\n",
    "En caso de utilizar Python sin haber instalado Anaconda se puede instalar mediante:\n",
    "\n",
    "pip install opencv-python"
   ]
  },
  {
   "cell_type": "markdown",
   "metadata": {},
   "source": [
    "# Funcionalidades básicas\n",
    "\n",
    "Para importar las librerías necesarias debemos utilizar los siguientes comandos:"
   ]
  },
  {
   "cell_type": "code",
   "execution_count": 1,
   "metadata": {
    "scrolled": false
   },
   "outputs": [],
   "source": [
    "import cv2 #Para manejo de imagenes\n",
    "import numpy as np #Para manejo de arrays"
   ]
  },
  {
   "cell_type": "markdown",
   "metadata": {},
   "source": [
    "Para la lectura de imagenes podemos abrir imagenes guardadas en el disco mediante el siguiente comando"
   ]
  },
  {
   "cell_type": "code",
   "execution_count": 2,
   "metadata": {},
   "outputs": [],
   "source": [
    "#Cargo una imagen desde un archivo utilizando el comando cv2.imread(\"path\")\n",
    "\n",
    "img = cv2.imread(\"OpenCV-Logo.png\")\n",
    "\n",
    "#Puedo cargar una imagen en escala de grises utilizando la bandera cv2.IMREAD_GRAYSCALE\n",
    "\n",
    "img_gray = cv2.imread(\"OpenCV-Logo.png\", cv2.IMREAD_GRAYSCALE)"
   ]
  },
  {
   "cell_type": "markdown",
   "metadata": {},
   "source": [
    "Las imágenes cargadas mediante OpenCV utilizan de fondo arrays de NumPy, por lo tanto se pueden ver los atributos de la misma manera que un array"
   ]
  },
  {
   "cell_type": "code",
   "execution_count": 23,
   "metadata": {},
   "outputs": [
    {
     "name": "stdout",
     "output_type": "stream",
     "text": [
      "Dimensiones imagen color:  (222, 180, 3)\n",
      "Dimensiones imagen en escala de grises:  (222, 180)\n",
      "Tipo de dato de la imagen uint8\n"
     ]
    }
   ],
   "source": [
    "#Podemos ver el tamaño de la imagen utilizando el siguiente comando\n",
    "\n",
    "shape = img.shape\n",
    "print(\"Dimensiones imagen color: \", shape)\n",
    "\n",
    "#Notar que la imagen en colores tiene 3 canales B, G y R debido al funcionamiento interno de OpenCV\n",
    "\n",
    "shape_gray = img_gray.shape\n",
    "print(\"Dimensiones imagen en escala de grises: \", shape_gray)\n",
    "\n",
    "#Podemos ver el tipo de dato del arreglo utilizando el siguiente comando\n",
    "\n",
    "tipo = img.dtype\n",
    "print(\"Tipo de dato de la imagen\", tipo)\n",
    "\n",
    "#Por defecto, OpenCV carga las imagenes en enteros sin signo de 8 bits ('uint8')\n",
    "#Se deberá tener cuidado al restar o sumar porque no guarda numeros menores a 0 o mayores a 255"
   ]
  },
  {
   "cell_type": "markdown",
   "metadata": {},
   "source": [
    "Si queremos cargar una imagen vacía podemos crearla haciendo un arrays de 0s en numpy.\n",
    "El comando np.zeros tiene como entradas el tamaño, y se puede especificar el tipo de datos que por defecto es float64"
   ]
  },
  {
   "cell_type": "code",
   "execution_count": 3,
   "metadata": {},
   "outputs": [],
   "source": [
    "img_vacia = np.zeros(img.shape, dtype = img.dtype)\n",
    "\n",
    "#También podemos especificar que tenga mismo tamaño y tipo de datos que una imagen que ya hayamos cargado con\n",
    "\n",
    "img_vacia = np.zeros_like(img)\n",
    "\n",
    "#Son formas equivalentes de hacer lo mismo"
   ]
  },
  {
   "cell_type": "markdown",
   "metadata": {},
   "source": [
    "# Mostrando Imagenes con cv2.imshow()\n",
    "\n",
    "Para mostrar imagenes en pantalla podemos utilizar cv2.imshow()\n",
    "Esta función tiene buenas funcionalidades extras que se pueden agregar, como barras deslizables para modificar parametros, pero tiende a tener algunas fallas dependiendo de la versión instalada de OpenCV."
   ]
  },
  {
   "cell_type": "code",
   "execution_count": 4,
   "metadata": {},
   "outputs": [],
   "source": [
    "#La muestro en una ventana de OpenCV utilizando cv2.imshow(\"NombreVentana\",imagen)\n",
    "#Cerrar la ventana apretando la tecla q, para evitar que se cuelgue\n",
    "\n",
    "cv2.imshow(\"Color\", img)\n",
    "cv2.waitKey(0)\n",
    "cv2.destroyAllWindows()\n",
    "\n",
    "cv2.imshow(\"Grayscale\", img_gray)\n",
    "cv2.waitKey(0)\n",
    "cv2.destroyAllWindows()\n",
    "\n",
    "cv2.imshow(\"Imagen Vacia\", img_vacia)\n",
    "cv2.waitKey(0)\n",
    "cv2.destroyAllWindows()"
   ]
  },
  {
   "cell_type": "markdown",
   "metadata": {},
   "source": [
    "Ejemplo de Trackbar para modificación de colores."
   ]
  },
  {
   "cell_type": "code",
   "execution_count": 6,
   "metadata": {},
   "outputs": [],
   "source": [
    "#Defino una función para asignarle a la trackbar. En este caso es una función vacía\n",
    "\n",
    "def nothing(x):\n",
    "    pass\n",
    "\n",
    "#Creo la imagen donde insertar los trackbars\n",
    "cv2.namedWindow('image')\n",
    "\n",
    "# Creo trackbars para recibir un color\n",
    "cv2.createTrackbar('R','image',0,255,nothing)\n",
    "cv2.createTrackbar('G','image',0,255,nothing)\n",
    "cv2.createTrackbar('B','image',0,255,nothing)\n",
    "\n",
    "# Creo un switch para activarlas\n",
    "switch = '0 : OFF \\n1 : ON'\n",
    "cv2.createTrackbar(switch, 'image',0,1,nothing)\n",
    "\n",
    "while(1):\n",
    "    cv2.imshow('image',img_vacia)\n",
    "    #Para cerrar presionando escape\n",
    "    #Agregar esto en cualquier loop que contenga un imshow\n",
    "    k = cv2.waitKey(1) & 0xFF\n",
    "    if k == 27:\n",
    "        break\n",
    "\n",
    "    # Obtengo los colores de las posiciones de la barra\n",
    "    r = cv2.getTrackbarPos('R','image')\n",
    "    g = cv2.getTrackbarPos('G','image')\n",
    "    b = cv2.getTrackbarPos('B','image')\n",
    "    s = cv2.getTrackbarPos(switch,'image')\n",
    "\n",
    "    if s == 0:\n",
    "        img_vacia[:] = 0\n",
    "    else:\n",
    "        #los agrego a todos los pixeles de la imagen\n",
    "        img_vacia[:] = [b,g,r]\n",
    "\n",
    "cv2.destroyAllWindows()"
   ]
  },
  {
   "cell_type": "markdown",
   "metadata": {},
   "source": [
    "# Mostrando Imagenes con matplotlib.pyplot\n",
    "\n",
    "Trabaja de manera distinta a cv2.imshow, y posee características muy similares a Matlab."
   ]
  },
  {
   "cell_type": "code",
   "execution_count": 7,
   "metadata": {},
   "outputs": [],
   "source": [
    "import matplotlib.pyplot as plt # Importa la librería"
   ]
  },
  {
   "cell_type": "code",
   "execution_count": 17,
   "metadata": {
    "scrolled": false
   },
   "outputs": [
    {
     "data": {
      "image/png": "[encoded data removed]",
      "text/plain": [
       "<Figure size 432x288 with 1 Axes>"
      ]
     },
     "metadata": {
      "needs_background": "light"
     },
     "output_type": "display_data"
    },
    {
     "data": {
      "image/png": "[encoded data removed]",
      "text/plain": [
       "<Figure size 432x288 with 1 Axes>"
      ]
     },
     "metadata": {
      "needs_background": "light"
     },
     "output_type": "display_data"
    },
    {
     "data": {
      "image/png": "[encoded data removed]",
      "text/plain": [
       "<Figure size 432x288 with 1 Axes>"
      ]
     },
     "metadata": {
      "needs_background": "light"
     },
     "output_type": "display_data"
    }
   ],
   "source": [
    "plt.figure() #Declara una figura como Matlab\n",
    "plt.imshow(img) #Carga imagen a la figura\n",
    "\n",
    "#Para las imagenes en escalas de grises hay que asignar un mapa de colores\n",
    "#El mapa por defecto por defecto es Viridis\n",
    "plt.figure() \n",
    "plt.imshow(img_gray, cmap = 'gray') \n",
    "\n",
    "plt.figure() \n",
    "plt.imshow(img_vacia) \n",
    "\n",
    "#Para mostrar todas las figuras en caso de trabajar en un script\n",
    "plt.show()\n",
    "#En una Jupyter Notebook esa línea no es necesaria dado que crea las figuras en la salida interna"
   ]
  },
  {
   "cell_type": "markdown",
   "metadata": {},
   "source": [
    "Podemos trabajar con subplots al igual que en Matlab utilizando la función plt.subplot(num_filas,num_columnas,posicion)"
   ]
  },
  {
   "cell_type": "code",
   "execution_count": 20,
   "metadata": {},
   "outputs": [
    {
     "data": {
      "image/png": "[encoded data removed]",
      "text/plain": [
       "<Figure size 432x288 with 3 Axes>"
      ]
     },
     "metadata": {
      "needs_background": "light"
     },
     "output_type": "display_data"
    }
   ],
   "source": [
    "plt.subplot(1,3,1) #Declara una figura como Matlab\n",
    "plt.imshow(img) #Carga imagen a la figura\n",
    "\n",
    "plt.subplot(1,3,2) \n",
    "plt.imshow(img_gray, cmap = 'gray') \n",
    "\n",
    "plt.subplot(1,3,3) \n",
    "plt.imshow(img_vacia) \n",
    "\n",
    "plt.show()"
   ]
  }
 ],
 "metadata": {
  "kernelspec": {
   "display_name": "Python 3",
   "language": "python",
   "name": "python3"
  },
  "language_info": {
   "codemirror_mode": {
    "name": "ipython",
    "version": 3
   },
   "file_extension": ".py",
   "mimetype": "text/x-python",
   "name": "python",
   "nbconvert_exporter": "python",
   "pygments_lexer": "ipython3",
   "version": "3.7.4"
  }
 },
 "nbformat": 4,
 "nbformat_minor": 2
}
