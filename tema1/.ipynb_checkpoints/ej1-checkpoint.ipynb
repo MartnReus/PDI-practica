{
 "cells": [
  {
   "cell_type": "code",
   "execution_count": null,
   "id": "dc7b45be-ee82-40f2-9966-5f3ec3dab0c3",
   "metadata": {},
   "outputs": [],
   "source": [
    "import cv2\n",
    "\n",
    "image = cv2.imread(\"../images/billete.jpg\")"
   ]
  },
  {
   "cell_type": "code",
   "execution_count": null,
   "id": "255f9be1-7865-40fc-a61a-98216750641c",
   "metadata": {},
   "outputs": [],
   "source": []
  },
  {
   "cell_type": "code",
   "execution_count": null,
   "id": "10fd0dc3-7ec5-4287-ad97-8e294c577e50",
   "metadata": {},
   "outputs": [],
   "source": []
  }
 ],
 "metadata": {
  "kernelspec": {
   "display_name": "proc_imagenes",
   "language": "python",
   "name": "proc_imagenes"
  },
  "language_info": {
   "codemirror_mode": {
    "name": "ipython",
    "version": 3
   },
   "file_extension": ".py",
   "mimetype": "text/x-python",
   "name": "python",
   "nbconvert_exporter": "python",
   "pygments_lexer": "ipython3",
   "version": "3.11.8"
  }
 },
 "nbformat": 4,
 "nbformat_minor": 5
}
